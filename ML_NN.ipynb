{
 "cells": [
  {
   "cell_type": "markdown",
   "metadata": {},
   "source": [
    "## Лабораторная работа №2\n",
    "** Выполнила: Елизарова Юлия**\n",
    "\n",
    "В работе будет рассмотрена задача классификации на примере возможности выяления и предсказания фактов фальсификации финансовой отчетности (на основании ключевых показателей отчетности компаний, торгующихся на американской фондовой бирже). В качестве зависимой переменной будет выступать аудиторское заключение по компании об отсутствии или наличии выявленного факта мошенничества."
   ]
  },
  {
   "cell_type": "code",
   "execution_count": 2,
   "metadata": {
    "collapsed": true
   },
   "outputs": [],
   "source": [
    "import numpy as np\n",
    "import matplotlib.pyplot as plt\n",
    "import pandas as pd\n",
    "%matplotlib inlinedata = pd.read_csv(r'C:\\\\Users\\\\Julia\\\\Desktop\\\\Data_audit.csv', sep = \";\")"
   ]
  },
  {
   "cell_type": "code",
   "execution_count": 3,
   "metadata": {
    "collapsed": true
   },
   "outputs": [],
   "source": [
    "data = pd.read_csv(r'C:\\\\Users\\\\Julia\\\\Desktop\\\\Data_audit.csv', sep = \";\")"
   ]
  },
  {
   "cell_type": "markdown",
   "metadata": {},
   "source": [
    "# 1. Предобработка данных"
   ]
  },
  {
   "cell_type": "code",
   "execution_count": 4,
   "metadata": {},
   "outputs": [
    {
     "data": {
      "text/plain": [
       "'float64'"
      ]
     },
     "execution_count": 4,
     "metadata": {},
     "output_type": "execute_result"
    }
   ],
   "source": [
    "data['catas'].dtype.namedata['loc'].dtype.name"
   ]
  },
  {
   "cell_type": "code",
   "execution_count": 5,
   "metadata": {},
   "outputs": [
    {
     "data": {
      "text/plain": [
       "'object'"
      ]
     },
     "execution_count": 5,
     "metadata": {},
     "output_type": "execute_result"
    }
   ],
   "source": [
    "data['loc'].dtype.name"
   ]
  },
  {
   "cell_type": "code",
   "execution_count": 6,
   "metadata": {},
   "outputs": [
    {
     "name": "stdout",
     "output_type": "stream",
     "text": [
      "['conml', 'loc', 'DataDate']\n",
      "['auop', 'intas', 'gptas', 'nptas', 'catas', 'cacl', 'ctas', 'incl', 'ltdtas', 'npgp', 'tdtas', 'fastas', 'tatasly', 'gpns', 'npic', 'caicl', 'wctas', 'nstas', 'inic', 'slic', 'incas', 'ebit', 'nitas', 'ninas', 'nisl', 'nifas', 'trcgs', 'tafas', 'ttrev', 'defas', 'ldsdta']\n"
     ]
    }
   ],
   "source": [
    "categorical_columns = [c for c in data.columns if data[c].dtype.name == 'object'] \n",
    "numerical_columns   = [c for c in data.columns if data[c].dtype.name != 'object']\n",
    "print(categorical_columns)\n",
    "print(numerical_columns)for c in categorical_columns:\n",
    "    print(c, data[c].unique())"
   ]
  },
  {
   "cell_type": "code",
   "execution_count": 7,
   "metadata": {},
   "outputs": [
    {
     "name": "stdout",
     "output_type": "stream",
     "text": [
      "conml ['United Dominion Industries' 'Abitibi-Consolidated Inc.'\n",
      " 'ASM International NV' ..., 'Allegion Plc' 'Dorian LPG Ltd'\n",
      " 'Nomad Foods Ltd']\n",
      "loc ['USA' 'CAN' 'NLD' 'ISR' 'IRL' 'BMU' 'PHL' 'GBR' 'ESP' 'FRA' 'JPN' 'SGP'\n",
      " 'CHN' 'BEL' 'CHE' 'SWE' 'FIN' 'NOR' 'DNK' 'ZAF' 'PAN' 'CYM' 'MEX' 'HKG'\n",
      " 'ANT' 'LUX' 'AUS' 'ITA' 'BOL' 'GRC' 'MCO' 'DEU' 'NZL' 'CHL' 'IND' 'PRT'\n",
      " 'CUW' 'VEN' 'KOR' 'BRA' 'HUN' 'JEY' 'MYS' 'ARG' 'BHS' 'IDN' 'MAC' 'PNG'\n",
      " 'TWN' 'PER' 'RUS' 'THA' 'POL' 'BLZ' 'TUR' 'ISL' 'AUT' 'URY' 'COL' 'GHA']\n",
      "DataDate ['31.12.1985' '31.12.1986' '31.12.1987' '31.12.1988' '31.12.1989'\n",
      " '31.12.1991' '31.12.1992' '31.12.1993' '31.12.1994' '31.12.1995'\n",
      " '31.12.1996' '31.12.1997' '31.12.1998' '31.12.1999' '31.12.2000'\n",
      " '31.12.1990' '31.12.2001' '31.12.2002' '31.12.2003' '31.12.2004'\n",
      " '31.12.2005' '31.12.2006' '31.12.1982' '31.12.1983' '31.12.1984'\n",
      " '31.12.2007' '31.12.2008' '31.12.2009' '31.12.2010' '31.12.2011'\n",
      " '31.12.2012' '31.12.2013' '31.12.2014' '31.12.2015' '31.12.2016'\n",
      " '30.09.1982' '30.09.1983' '30.09.1990' '30.09.1991' '30.09.1992'\n",
      " '30.09.1993' '30.09.1994' '30.09.1995' '30.09.1996' '30.09.1997'\n",
      " '30.09.1998' '30.09.1999' '30.09.2000' '30.09.2001' '30.09.2002'\n",
      " '30.09.2003' '30.09.2004' '30.09.2005' '31.07.1983' '31.03.1986'\n",
      " '31.03.1987' '31.03.1988' '31.03.1989' '31.03.1990' '31.03.1991'\n",
      " '31.03.1992' '31.03.1993' '31.03.1994' '31.03.1995' '31.03.1996'\n",
      " '31.03.1997' '31.03.1998' '31.03.1999' '31.03.2000' '31.03.2001'\n",
      " '31.03.2002' '31.03.2003' '31.03.2004' '31.03.2005' '31.03.2006'\n",
      " '31.03.2007' '31.03.2008' '31.03.2009' '31.03.2010' '31.03.2011'\n",
      " '31.03.2012' '31.03.2013' '31.03.2014' '31.03.2015' '31.03.2016'\n",
      " '31.03.2017' '30.06.1983' '30.06.1984' '30.06.1985' '31.01.1989'\n",
      " '31.01.1990' '31.01.1991' '30.06.1982' '30.06.1987' '30.06.1988'\n",
      " '30.06.1989' '30.06.1992' '30.06.1993' '31.03.1983' '31.03.1984'\n",
      " '31.03.1985' '31.05.1983' '31.05.1984' '31.05.1985' '31.10.1985'\n",
      " '31.10.1986' '31.10.1987' '31.10.1988' '31.10.1989' '31.10.1990'\n",
      " '31.10.1991' '31.10.1992' '31.10.1993' '31.10.1994' '30.06.1986'\n",
      " '30.06.1990' '30.06.1991' '31.08.1982' '31.08.1983' '31.08.1984'\n",
      " '31.08.1985' '31.08.1986' '31.08.1987' '30.04.1988' '30.04.1989'\n",
      " '30.04.1990' '31.01.1986' '31.10.1982' '31.10.1983' '31.10.1984'\n",
      " '31.07.1984' '31.07.1985' '31.07.1986' '31.07.1987' '31.07.1988'\n",
      " '31.07.1989' '31.07.1990' '31.07.1991' '30.06.1994' '30.06.1995'\n",
      " '28.02.1989' '28.02.1990' '28.02.1991' '29.02.1992' '28.02.1993'\n",
      " '28.02.1994' '28.02.1995' '29.02.1996' '28.02.1997' '28.02.1998'\n",
      " '28.02.1999' '29.02.2000' '28.02.2005' '28.02.2010' '28.02.2011'\n",
      " '29.02.2012' '28.02.2013' '28.02.2014' '28.02.2015' '29.02.2016'\n",
      " '28.02.2017' '28.02.1983' '29.02.1984' '28.02.1985' '28.02.1986'\n",
      " '28.02.1987' '30.09.1984' '30.09.1985' '30.09.1986' '30.09.1987'\n",
      " '30.09.1988' '30.09.1989' '30.11.1983' '30.11.1984' '30.11.1985'\n",
      " '30.11.1986' '30.11.1987' '30.11.1988' '30.11.1989' '29.02.1988'\n",
      " '28.02.2001' '28.02.2002' '28.02.2003' '30.09.2006' '30.09.2007'\n",
      " '30.09.2008' '30.09.2009' '30.09.2010' '30.09.2011' '30.09.2012'\n",
      " '30.09.2013' '30.09.2014' '30.09.2015' '30.09.2016' '30.09.2017'\n",
      " '30.04.1986' '31.07.1996' '31.07.1997' '31.07.1998' '30.11.1982'\n",
      " '30.04.1983' '30.04.1984' '30.04.1985' '30.04.1987' '30.04.1991'\n",
      " '30.04.1992' '30.04.1993' '30.04.1994' '30.04.1995' '30.04.1996'\n",
      " '30.04.1997' '30.04.1998' '30.04.1999' '30.04.2000' '30.04.2001'\n",
      " '30.04.2002' '30.04.2003' '30.04.2004' '30.04.2005' '30.04.2006'\n",
      " '30.04.2007' '30.04.2008' '30.04.2009' '30.04.2010' '30.04.2011'\n",
      " '30.04.2012' '30.04.2013' '30.04.2014' '30.04.2015' '30.04.2016'\n",
      " '30.04.2017' '30.11.1990' '30.11.1992' '30.11.1993' '30.11.1994'\n",
      " '30.11.1995' '30.11.1996' '30.11.1997' '30.11.1998' '30.11.1999'\n",
      " '30.11.2000' '30.11.2002' '30.11.2003' '30.11.2004' '30.11.2005'\n",
      " '30.11.2006' '30.11.2007' '31.01.1985' '31.01.1987' '31.01.1988'\n",
      " '31.01.1993' '31.01.1994' '31.01.1995' '31.07.1982' '31.01.1984'\n",
      " '31.01.1992' '31.01.1996' '30.06.1996' '30.06.1997' '30.06.1998'\n",
      " '30.06.1999' '30.06.2000' '31.07.1992' '31.07.1993' '31.05.1986'\n",
      " '31.05.1987' '31.05.1988' '31.05.1989' '31.05.1990' '31.05.1991'\n",
      " '31.05.1992' '31.05.1993' '31.05.1994' '31.08.1995' '31.08.1988'\n",
      " '31.08.1989' '31.08.1990' '31.08.1991' '31.08.1992' '31.08.1993'\n",
      " '31.08.1994' '31.05.1995' '31.05.1996' '31.05.1998' '31.05.1999'\n",
      " '30.06.2001' '30.06.2002' '30.06.2003' '30.06.2004' '30.06.2005'\n",
      " '30.06.2006' '30.06.2007' '30.06.2008' '30.06.2009' '30.06.2010'\n",
      " '30.06.2011' '30.06.2012' '30.06.2013' '30.06.2014' '30.06.2015'\n",
      " '30.06.2016' '30.06.2017' '30.11.1991' '30.11.2001' '30.11.2008'\n",
      " '30.11.2009' '30.11.2010' '30.11.2011' '30.11.2012' '30.11.2013'\n",
      " '30.11.2014' '30.11.2015' '30.11.2016' '30.11.2017' '31.01.1997'\n",
      " '31.01.1998' '31.01.1999' '31.10.1995' '31.10.2000' '31.10.2001'\n",
      " '31.10.2002' '31.10.2003' '31.10.2004' '31.10.2005' '31.10.2006'\n",
      " '31.10.2007' '31.10.2008' '31.10.2009' '31.10.2010' '31.08.1999'\n",
      " '31.08.2000' '31.08.2001' '31.08.2002' '31.08.2003' '31.08.2004'\n",
      " '31.08.2005' '31.08.2006' '31.08.2007' '31.08.2008' '31.08.2009'\n",
      " '31.08.2010' '31.08.2011' '31.08.2012' '31.08.2013' '31.08.2014'\n",
      " '31.08.2015' '31.08.2016' '31.08.2017' '29.02.2004' '28.02.2006'\n",
      " '28.02.2007' '31.08.1996' '31.01.2001' '31.01.2002' '31.07.1995'\n",
      " '31.07.1999' '31.07.2000' '31.07.2002' '31.07.2003' '31.07.2004'\n",
      " '31.07.2005' '31.01.2016' '31.01.2017' '31.01.2000' '31.01.2003'\n",
      " '31.01.2004' '31.01.2005' '31.01.2006' '31.01.2007' '31.01.2008'\n",
      " '31.01.2009' '31.01.2010' '31.01.2011' '31.01.2012' '31.01.2013'\n",
      " '31.01.2014' '31.01.2015' '31.10.1998' '31.10.1999' '31.10.2011'\n",
      " '31.10.2012' '31.10.2013' '31.10.2014' '31.10.2015' '31.10.2016'\n",
      " '31.10.2017' '31.10.1997' '31.08.1997' '31.08.1998' '31.10.1996'\n",
      " '31.07.2001' '31.05.2000' '31.05.1997' '29.02.2008' '28.02.2009'\n",
      " '31.07.2006' '31.07.2007' '31.05.2007' '31.05.2008' '31.05.2009'\n",
      " '31.05.2010' '31.05.2011' '31.05.2012' '31.05.2013' '31.05.2014'\n",
      " '31.05.2015' '31.05.2016' '31.05.2017']\n"
     ]
    }
   ],
   "source": [
    "for c in categorical_columns:\n",
    "    print(c, data[c].unique())"
   ]
  },
  {
   "cell_type": "code",
   "execution_count": 8,
   "metadata": {},
   "outputs": [
    {
     "data": {
      "text/plain": [
       "auop          1.000000\n",
       "intas         0.037125\n",
       "gptas         0.193756\n",
       "nptas         0.142784\n",
       "catas         0.302972\n",
       "cacl          1.281365\n",
       "ctas          0.050370\n",
       "incl          0.165037\n",
       "ltdtas        0.152489\n",
       "npgp          0.794843\n",
       "tdtas         0.398550\n",
       "fastas        0.517985\n",
       "tatasly       1.000000\n",
       "gpns          0.382642\n",
       "npic          0.268760\n",
       "caicl         0.976254\n",
       "wctas         0.063915\n",
       "nstas         0.554561\n",
       "inic          0.053371\n",
       "slic          0.875301\n",
       "incas         0.120547\n",
       "ebit       2733.345000\n",
       "nitas         0.037918\n",
       "ninas         0.110805\n",
       "nisl          0.072425\n",
       "nifas         0.054540\n",
       "trcgs         1.000000\n",
       "tafas         1.000000\n",
       "ttrev         1.000000\n",
       "defas         1.000000\n",
       "ldsdta        1.000000\n",
       "dtype: float64"
      ]
     },
     "execution_count": 8,
     "metadata": {},
     "output_type": "execute_result"
    }
   ],
   "source": [
    "data.median(axis = 0)data = data.fillna(data.median(axis = 0), axis = 0)"
   ]
  },
  {
   "cell_type": "code",
   "execution_count": 9,
   "metadata": {
    "collapsed": true
   },
   "outputs": [],
   "source": [
    "data = data.fillna(data.median(axis = 0), axis = 0)"
   ]
  },
  {
   "cell_type": "code",
   "execution_count": 10,
   "metadata": {},
   "outputs": [
    {
     "data": {
      "text/plain": [
       "auop       21565\n",
       "intas      21565\n",
       "gptas      21565\n",
       "nptas      21565\n",
       "catas      21565\n",
       "cacl       21565\n",
       "ctas       21565\n",
       "incl       21565\n",
       "ltdtas     21565\n",
       "npgp       21565\n",
       "tdtas      21565\n",
       "fastas     21565\n",
       "tatasly    21565\n",
       "gpns       21565\n",
       "npic       21565\n",
       "caicl      21565\n",
       "wctas      21565\n",
       "nstas      21565\n",
       "inic       21565\n",
       "slic       21565\n",
       "incas      21565\n",
       "ebit       21565\n",
       "nitas      21565\n",
       "ninas      21565\n",
       "nisl       21565\n",
       "nifas      21565\n",
       "trcgs      21565\n",
       "tafas      21565\n",
       "ttrev      21565\n",
       "defas      21565\n",
       "ldsdta     21565\n",
       "dtype: int64"
      ]
     },
     "execution_count": 10,
     "metadata": {},
     "output_type": "execute_result"
    }
   ],
   "source": [
    "data[numerical_columns].count(axis = 0)"
   ]
  },
  {
   "cell_type": "code",
   "execution_count": 11,
   "metadata": {},
   "outputs": [
    {
     "data": {
      "text/plain": [
       "count     21565\n",
       "unique       60\n",
       "top         CAN\n",
       "freq       3075\n",
       "Name: loc, dtype: object"
      ]
     },
     "execution_count": 11,
     "metadata": {},
     "output_type": "execute_result"
    }
   ],
   "source": [
    "data['loc'].describe()"
   ]
  },
  {
   "cell_type": "code",
   "execution_count": 12,
   "metadata": {},
   "outputs": [
    {
     "data": {
      "text/html": [
       "<div>\n",
       "<style>\n",
       "    .dataframe thead tr:only-child th {\n",
       "        text-align: right;\n",
       "    }\n",
       "\n",
       "    .dataframe thead th {\n",
       "        text-align: left;\n",
       "    }\n",
       "\n",
       "    .dataframe tbody tr th {\n",
       "        vertical-align: top;\n",
       "    }\n",
       "</style>\n",
       "<table border=\"1\" class=\"dataframe\">\n",
       "  <thead>\n",
       "    <tr style=\"text-align: right;\">\n",
       "      <th></th>\n",
       "      <th>conml</th>\n",
       "      <th>loc</th>\n",
       "      <th>DataDate</th>\n",
       "    </tr>\n",
       "  </thead>\n",
       "  <tbody>\n",
       "    <tr>\n",
       "      <th>count</th>\n",
       "      <td>21565</td>\n",
       "      <td>21565</td>\n",
       "      <td>21565</td>\n",
       "    </tr>\n",
       "    <tr>\n",
       "      <th>unique</th>\n",
       "      <td>1678</td>\n",
       "      <td>60</td>\n",
       "      <td>408</td>\n",
       "    </tr>\n",
       "    <tr>\n",
       "      <th>top</th>\n",
       "      <td>Novo Nordisk A/S</td>\n",
       "      <td>CAN</td>\n",
       "      <td>31.12.2003</td>\n",
       "    </tr>\n",
       "    <tr>\n",
       "      <th>freq</th>\n",
       "      <td>79</td>\n",
       "      <td>3075</td>\n",
       "      <td>674</td>\n",
       "    </tr>\n",
       "  </tbody>\n",
       "</table>\n",
       "</div>"
      ],
      "text/plain": [
       "                   conml    loc    DataDate\n",
       "count              21565  21565       21565\n",
       "unique              1678     60         408\n",
       "top     Novo Nordisk A/S    CAN  31.12.2003\n",
       "freq                  79   3075         674"
      ]
     },
     "execution_count": 12,
     "metadata": {},
     "output_type": "execute_result"
    }
   ],
   "source": [
    "data.describe(include = [object])data_describe = data.describe(include = [object])\n",
    "for c in categorical_columns:\n",
    "    data[c] = data[c].fillna(data_describe[c]['top'])"
   ]
  },
  {
   "cell_type": "code",
   "execution_count": 13,
   "metadata": {
    "collapsed": true
   },
   "outputs": [],
   "source": [
    "data_describe = data.describe(include = [object])\n",
    "for c in categorical_columns:\n",
    "    data[c] = data[c].fillna(data_describe[c]['top'])"
   ]
  },
  {
   "cell_type": "code",
   "execution_count": 14,
   "metadata": {},
   "outputs": [
    {
     "name": "stdout",
     "output_type": "stream",
     "text": [
      "[] ['conml', 'loc', 'DataDate']\n"
     ]
    }
   ],
   "source": [
    "binary_columns    = [c for c in categorical_columns if data_describe[c]['unique'] == 2]\n",
    "nonbinary_columns = [c for c in categorical_columns if data_describe[c]['unique'] > 2]\n",
    "print(binary_columns, nonbinary_columns)data['loc'].unique()"
   ]
  },
  {
   "cell_type": "code",
   "execution_count": 15,
   "metadata": {},
   "outputs": [
    {
     "data": {
      "text/plain": [
       "array(['USA', 'CAN', 'NLD', 'ISR', 'IRL', 'BMU', 'PHL', 'GBR', 'ESP',\n",
       "       'FRA', 'JPN', 'SGP', 'CHN', 'BEL', 'CHE', 'SWE', 'FIN', 'NOR',\n",
       "       'DNK', 'ZAF', 'PAN', 'CYM', 'MEX', 'HKG', 'ANT', 'LUX', 'AUS',\n",
       "       'ITA', 'BOL', 'GRC', 'MCO', 'DEU', 'NZL', 'CHL', 'IND', 'PRT',\n",
       "       'CUW', 'VEN', 'KOR', 'BRA', 'HUN', 'JEY', 'MYS', 'ARG', 'BHS',\n",
       "       'IDN', 'MAC', 'PNG', 'TWN', 'PER', 'RUS', 'THA', 'POL', 'BLZ',\n",
       "       'TUR', 'ISL', 'AUT', 'URY', 'COL', 'GHA'], dtype=object)"
      ]
     },
     "execution_count": 15,
     "metadata": {},
     "output_type": "execute_result"
    }
   ],
   "source": [
    "data['loc'].unique()"
   ]
  },
  {
   "cell_type": "code",
   "execution_count": 16,
   "metadata": {},
   "outputs": [
    {
     "name": "stdout",
     "output_type": "stream",
     "text": [
      "Index(['ANT', 'ARG', 'AUS', 'AUT', 'BEL', 'BHS', 'BLZ', 'BMU', 'BOL', 'BRA',\n",
      "       'CAN', 'CHE', 'CHL', 'CHN', 'COL', 'CUW', 'CYM', 'DEU', 'DNK', 'ESP',\n",
      "       'FIN', 'FRA', 'GBR', 'GHA', 'GRC', 'HKG', 'HUN', 'IDN', 'IND', 'IRL',\n",
      "       'ISL', 'ISR', 'ITA', 'JEY', 'JPN', 'KOR', 'LUX', 'MAC', 'MCO', 'MEX',\n",
      "       'MYS', 'NLD', 'NOR', 'NZL', 'PAN', 'PER', 'PHL', 'PNG', 'POL', 'PRT',\n",
      "       'RUS', 'SGP', 'SWE', 'THA', 'TUR', 'TWN', 'URY', 'USA', 'VEN', 'ZAF'],\n",
      "      dtype='object')\n"
     ]
    }
   ],
   "source": [
    "data_nonbinary = pd.get_dummies(data['loc'])\n",
    "print(data_nonbinary.columns)"
   ]
  },
  {
   "cell_type": "code",
   "execution_count": 17,
   "metadata": {
    "collapsed": true
   },
   "outputs": [],
   "source": [
    "nonbinary_columns = ['loc']"
   ]
  },
  {
   "cell_type": "code",
   "execution_count": 18,
   "metadata": {},
   "outputs": [
    {
     "data": {
      "text/html": [
       "<div>\n",
       "<style>\n",
       "    .dataframe thead tr:only-child th {\n",
       "        text-align: right;\n",
       "    }\n",
       "\n",
       "    .dataframe thead th {\n",
       "        text-align: left;\n",
       "    }\n",
       "\n",
       "    .dataframe tbody tr th {\n",
       "        vertical-align: top;\n",
       "    }\n",
       "</style>\n",
       "<table border=\"1\" class=\"dataframe\">\n",
       "  <thead>\n",
       "    <tr style=\"text-align: right;\">\n",
       "      <th></th>\n",
       "      <th>auop</th>\n",
       "      <th>intas</th>\n",
       "      <th>gptas</th>\n",
       "      <th>nptas</th>\n",
       "      <th>catas</th>\n",
       "      <th>cacl</th>\n",
       "      <th>ctas</th>\n",
       "      <th>incl</th>\n",
       "      <th>ltdtas</th>\n",
       "      <th>npgp</th>\n",
       "      <th>...</th>\n",
       "      <th>ebit</th>\n",
       "      <th>nitas</th>\n",
       "      <th>ninas</th>\n",
       "      <th>nisl</th>\n",
       "      <th>nifas</th>\n",
       "      <th>trcgs</th>\n",
       "      <th>tafas</th>\n",
       "      <th>ttrev</th>\n",
       "      <th>defas</th>\n",
       "      <th>ldsdta</th>\n",
       "    </tr>\n",
       "  </thead>\n",
       "  <tbody>\n",
       "    <tr>\n",
       "      <th>count</th>\n",
       "      <td>21565.000000</td>\n",
       "      <td>21565.000000</td>\n",
       "      <td>21565.000000</td>\n",
       "      <td>21565.000000</td>\n",
       "      <td>21565.000000</td>\n",
       "      <td>21565.000000</td>\n",
       "      <td>21565.000000</td>\n",
       "      <td>21565.000000</td>\n",
       "      <td>21565.000000</td>\n",
       "      <td>21565.000000</td>\n",
       "      <td>...</td>\n",
       "      <td>21565.000000</td>\n",
       "      <td>21565.000000</td>\n",
       "      <td>21565.000000</td>\n",
       "      <td>21565.000000</td>\n",
       "      <td>21565.000000</td>\n",
       "      <td>21565.000000</td>\n",
       "      <td>21565.000000</td>\n",
       "      <td>21565.000000</td>\n",
       "      <td>21565.000000</td>\n",
       "      <td>21565.000000</td>\n",
       "    </tr>\n",
       "    <tr>\n",
       "      <th>mean</th>\n",
       "      <td>1.629956</td>\n",
       "      <td>0.071835</td>\n",
       "      <td>0.227424</td>\n",
       "      <td>0.117119</td>\n",
       "      <td>0.327162</td>\n",
       "      <td>1.872637</td>\n",
       "      <td>0.089691</td>\n",
       "      <td>0.535517</td>\n",
       "      <td>0.181748</td>\n",
       "      <td>0.361364</td>\n",
       "      <td>...</td>\n",
       "      <td>12678.293797</td>\n",
       "      <td>0.031432</td>\n",
       "      <td>0.084757</td>\n",
       "      <td>-0.725551</td>\n",
       "      <td>0.249149</td>\n",
       "      <td>0.894133</td>\n",
       "      <td>1.286055</td>\n",
       "      <td>1.349424</td>\n",
       "      <td>1.719008</td>\n",
       "      <td>1.040599</td>\n",
       "    </tr>\n",
       "    <tr>\n",
       "      <th>std</th>\n",
       "      <td>1.222984</td>\n",
       "      <td>0.090411</td>\n",
       "      <td>0.202277</td>\n",
       "      <td>0.523943</td>\n",
       "      <td>0.243448</td>\n",
       "      <td>5.287592</td>\n",
       "      <td>0.116556</td>\n",
       "      <td>9.069063</td>\n",
       "      <td>0.166983</td>\n",
       "      <td>137.608727</td>\n",
       "      <td>...</td>\n",
       "      <td>29501.094451</td>\n",
       "      <td>0.207415</td>\n",
       "      <td>1.803849</td>\n",
       "      <td>57.839597</td>\n",
       "      <td>21.687419</td>\n",
       "      <td>15.278540</td>\n",
       "      <td>38.573951</td>\n",
       "      <td>44.318867</td>\n",
       "      <td>44.888240</td>\n",
       "      <td>5.821885</td>\n",
       "    </tr>\n",
       "    <tr>\n",
       "      <th>min</th>\n",
       "      <td>0.000000</td>\n",
       "      <td>0.000000</td>\n",
       "      <td>-3.820055</td>\n",
       "      <td>-29.180662</td>\n",
       "      <td>0.000000</td>\n",
       "      <td>0.000000</td>\n",
       "      <td>-0.016112</td>\n",
       "      <td>0.000000</td>\n",
       "      <td>0.000000</td>\n",
       "      <td>-18239.000000</td>\n",
       "      <td>...</td>\n",
       "      <td>-15260.776000</td>\n",
       "      <td>-18.568807</td>\n",
       "      <td>-61.654838</td>\n",
       "      <td>-5637.437500</td>\n",
       "      <td>-1377.466165</td>\n",
       "      <td>-841.653543</td>\n",
       "      <td>-1652.157471</td>\n",
       "      <td>-38.088235</td>\n",
       "      <td>-292.302859</td>\n",
       "      <td>0.000000</td>\n",
       "    </tr>\n",
       "    <tr>\n",
       "      <th>25%</th>\n",
       "      <td>1.000000</td>\n",
       "      <td>0.002698</td>\n",
       "      <td>0.093780</td>\n",
       "      <td>0.024552</td>\n",
       "      <td>0.128005</td>\n",
       "      <td>0.749072</td>\n",
       "      <td>0.017261</td>\n",
       "      <td>0.000000</td>\n",
       "      <td>0.053237</td>\n",
       "      <td>0.234461</td>\n",
       "      <td>...</td>\n",
       "      <td>648.246000</td>\n",
       "      <td>0.007533</td>\n",
       "      <td>0.037950</td>\n",
       "      <td>0.021269</td>\n",
       "      <td>0.000000</td>\n",
       "      <td>0.954107</td>\n",
       "      <td>0.908859</td>\n",
       "      <td>0.995198</td>\n",
       "      <td>1.000000</td>\n",
       "      <td>0.938182</td>\n",
       "    </tr>\n",
       "    <tr>\n",
       "      <th>50%</th>\n",
       "      <td>1.000000</td>\n",
       "      <td>0.037125</td>\n",
       "      <td>0.193756</td>\n",
       "      <td>0.142784</td>\n",
       "      <td>0.302972</td>\n",
       "      <td>1.281365</td>\n",
       "      <td>0.050370</td>\n",
       "      <td>0.165037</td>\n",
       "      <td>0.152489</td>\n",
       "      <td>0.794843</td>\n",
       "      <td>...</td>\n",
       "      <td>2733.345000</td>\n",
       "      <td>0.037918</td>\n",
       "      <td>0.110805</td>\n",
       "      <td>0.072425</td>\n",
       "      <td>0.054540</td>\n",
       "      <td>1.000000</td>\n",
       "      <td>1.000000</td>\n",
       "      <td>1.000000</td>\n",
       "      <td>1.000000</td>\n",
       "      <td>1.000000</td>\n",
       "    </tr>\n",
       "    <tr>\n",
       "      <th>75%</th>\n",
       "      <td>1.000000</td>\n",
       "      <td>0.116546</td>\n",
       "      <td>0.324393</td>\n",
       "      <td>0.301233</td>\n",
       "      <td>0.506176</td>\n",
       "      <td>2.003565</td>\n",
       "      <td>0.114484</td>\n",
       "      <td>0.439484</td>\n",
       "      <td>0.269208</td>\n",
       "      <td>1.529336</td>\n",
       "      <td>...</td>\n",
       "      <td>11588.000000</td>\n",
       "      <td>0.077344</td>\n",
       "      <td>0.185718</td>\n",
       "      <td>0.148513</td>\n",
       "      <td>0.166841</td>\n",
       "      <td>1.004905</td>\n",
       "      <td>1.003823</td>\n",
       "      <td>1.112033</td>\n",
       "      <td>1.222609</td>\n",
       "      <td>1.014077</td>\n",
       "    </tr>\n",
       "    <tr>\n",
       "      <th>max</th>\n",
       "      <td>4.000000</td>\n",
       "      <td>0.993952</td>\n",
       "      <td>2.101139</td>\n",
       "      <td>1.444099</td>\n",
       "      <td>1.000000</td>\n",
       "      <td>310.821782</td>\n",
       "      <td>0.996235</td>\n",
       "      <td>584.931818</td>\n",
       "      <td>6.103740</td>\n",
       "      <td>6243.659306</td>\n",
       "      <td>...</td>\n",
       "      <td>465406.282000</td>\n",
       "      <td>1.168020</td>\n",
       "      <td>141.741936</td>\n",
       "      <td>1861.000000</td>\n",
       "      <td>1020.129114</td>\n",
       "      <td>1770.380234</td>\n",
       "      <td>3935.760423</td>\n",
       "      <td>6501.800000</td>\n",
       "      <td>6242.334674</td>\n",
       "      <td>745.203662</td>\n",
       "    </tr>\n",
       "  </tbody>\n",
       "</table>\n",
       "<p>8 rows × 31 columns</p>\n",
       "</div>"
      ],
      "text/plain": [
       "               auop         intas         gptas         nptas         catas  \\\n",
       "count  21565.000000  21565.000000  21565.000000  21565.000000  21565.000000   \n",
       "mean       1.629956      0.071835      0.227424      0.117119      0.327162   \n",
       "std        1.222984      0.090411      0.202277      0.523943      0.243448   \n",
       "min        0.000000      0.000000     -3.820055    -29.180662      0.000000   \n",
       "25%        1.000000      0.002698      0.093780      0.024552      0.128005   \n",
       "50%        1.000000      0.037125      0.193756      0.142784      0.302972   \n",
       "75%        1.000000      0.116546      0.324393      0.301233      0.506176   \n",
       "max        4.000000      0.993952      2.101139      1.444099      1.000000   \n",
       "\n",
       "               cacl          ctas          incl        ltdtas          npgp  \\\n",
       "count  21565.000000  21565.000000  21565.000000  21565.000000  21565.000000   \n",
       "mean       1.872637      0.089691      0.535517      0.181748      0.361364   \n",
       "std        5.287592      0.116556      9.069063      0.166983    137.608727   \n",
       "min        0.000000     -0.016112      0.000000      0.000000 -18239.000000   \n",
       "25%        0.749072      0.017261      0.000000      0.053237      0.234461   \n",
       "50%        1.281365      0.050370      0.165037      0.152489      0.794843   \n",
       "75%        2.003565      0.114484      0.439484      0.269208      1.529336   \n",
       "max      310.821782      0.996235    584.931818      6.103740   6243.659306   \n",
       "\n",
       "           ...                ebit         nitas         ninas          nisl  \\\n",
       "count      ...        21565.000000  21565.000000  21565.000000  21565.000000   \n",
       "mean       ...        12678.293797      0.031432      0.084757     -0.725551   \n",
       "std        ...        29501.094451      0.207415      1.803849     57.839597   \n",
       "min        ...       -15260.776000    -18.568807    -61.654838  -5637.437500   \n",
       "25%        ...          648.246000      0.007533      0.037950      0.021269   \n",
       "50%        ...         2733.345000      0.037918      0.110805      0.072425   \n",
       "75%        ...        11588.000000      0.077344      0.185718      0.148513   \n",
       "max        ...       465406.282000      1.168020    141.741936   1861.000000   \n",
       "\n",
       "              nifas         trcgs         tafas         ttrev         defas  \\\n",
       "count  21565.000000  21565.000000  21565.000000  21565.000000  21565.000000   \n",
       "mean       0.249149      0.894133      1.286055      1.349424      1.719008   \n",
       "std       21.687419     15.278540     38.573951     44.318867     44.888240   \n",
       "min    -1377.466165   -841.653543  -1652.157471    -38.088235   -292.302859   \n",
       "25%        0.000000      0.954107      0.908859      0.995198      1.000000   \n",
       "50%        0.054540      1.000000      1.000000      1.000000      1.000000   \n",
       "75%        0.166841      1.004905      1.003823      1.112033      1.222609   \n",
       "max     1020.129114   1770.380234   3935.760423   6501.800000   6242.334674   \n",
       "\n",
       "             ldsdta  \n",
       "count  21565.000000  \n",
       "mean       1.040599  \n",
       "std        5.821885  \n",
       "min        0.000000  \n",
       "25%        0.938182  \n",
       "50%        1.000000  \n",
       "75%        1.014077  \n",
       "max      745.203662  \n",
       "\n",
       "[8 rows x 31 columns]"
      ]
     },
     "execution_count": 18,
     "metadata": {},
     "output_type": "execute_result"
    }
   ],
   "source": [
    "data_numerical = data[numerical_columns]\n",
    "data_numerical.describe()"
   ]
  },
  {
   "cell_type": "code",
   "execution_count": 19,
   "metadata": {
    "collapsed": true
   },
   "outputs": [],
   "source": [
    "data_numerical = (data_numerical - data_numerical.mean(axis = 0))/data_numerical.std(axis = 0)"
   ]
  },
  {
   "cell_type": "code",
   "execution_count": 20,
   "metadata": {},
   "outputs": [
    {
     "name": "stdout",
     "output_type": "stream",
     "text": [
      "(21565, 91)\n"
     ]
    }
   ],
   "source": [
    "data = pd.concat((data_numerical, data_nonbinary, data[binary_columns]), axis = 1)\n",
    "print(data.shape)"
   ]
  },
  {
   "cell_type": "markdown",
   "metadata": {},
   "source": [
    "# 2. Выделение X и y"
   ]
  },
  {
   "cell_type": "code",
   "execution_count": 21,
   "metadata": {
    "collapsed": true
   },
   "outputs": [],
   "source": [
    "X = data.drop(('auop'), axis = 1) \n",
    "y = np.asarray(data['auop'], dtype=\"|S6\")\n",
    "feature_names = X.columnsprint(X.shape)\n",
    "print(y.shape)\n",
    "N, d = X.shape"
   ]
  },
  {
   "cell_type": "code",
   "execution_count": 22,
   "metadata": {},
   "outputs": [
    {
     "name": "stdout",
     "output_type": "stream",
     "text": [
      "(21565, 90)\n",
      "(21565,)\n"
     ]
    }
   ],
   "source": [
    "print(X.shape)\n",
    "print(y.shape)\n",
    "N, d = X.shape"
   ]
  },
  {
   "cell_type": "code",
   "execution_count": 23,
   "metadata": {},
   "outputs": [
    {
     "name": "stdout",
     "output_type": "stream",
     "text": [
      "15095 6470\n"
     ]
    }
   ],
   "source": [
    "from sklearn.model_selection import train_test_split\n",
    "X_train, X_test, y_train, y_test = train_test_split(X, y, test_size = 0.3, random_state = 42)\n",
    "\n",
    "N_train, _ = X_train.shape \n",
    "N_test,  _ = X_test.shape \n",
    "\n",
    "print(N_train, N_test)"
   ]
  },
  {
   "cell_type": "markdown",
   "metadata": {},
   "source": [
    "## 3. Применение методов машинного обучения"
   ]
  },
  {
   "cell_type": "markdown",
   "metadata": {},
   "source": [
    "# Neural network"
   ]
  },
  {
   "cell_type": "code",
   "execution_count": 24,
   "metadata": {
    "collapsed": true
   },
   "outputs": [],
   "source": [
    "from sklearn.neural_network import MLPClassifier"
   ]
  },
  {
   "cell_type": "code",
   "execution_count": 25,
   "metadata": {},
   "outputs": [
    {
     "data": {
      "text/plain": [
       "MLPClassifier(activation='logistic', alpha=0.0001, batch_size='auto',\n",
       "       beta_1=0.9, beta_2=0.999, early_stopping=False, epsilon=1e-08,\n",
       "       hidden_layer_sizes=(100,), learning_rate='constant',\n",
       "       learning_rate_init=0.001, max_iter=200, momentum=0.9,\n",
       "       nesterovs_momentum=True, power_t=0.5, random_state=42, shuffle=True,\n",
       "       solver='lbfgs', tol=0.0001, validation_fraction=0.1, verbose=False,\n",
       "       warm_start=False)"
      ]
     },
     "execution_count": 25,
     "metadata": {},
     "output_type": "execute_result"
    }
   ],
   "source": [
    "mlp_model = MLPClassifier(hidden_layer_sizes = (100,), solver = 'lbfgs', \n",
    "                          activation = 'logistic', random_state = 42)\n",
    "mlp_model.fit(X_train, y_train)"
   ]
  },
  {
   "cell_type": "code",
   "execution_count": 26,
   "metadata": {
    "collapsed": true
   },
   "outputs": [],
   "source": [
    "y_train_pred = mlp_model.predict(X_train)\n",
    "y_test_pred = mlp_model.predict(X_test)"
   ]
  },
  {
   "cell_type": "code",
   "execution_count": 27,
   "metadata": {},
   "outputs": [
    {
     "name": "stdout",
     "output_type": "stream",
     "text": [
      "0.208015899304 0.23029366306\n"
     ]
    }
   ],
   "source": [
    "print(np.mean(y_train != y_train_pred), np.mean(y_test != y_test_pred))print(mlp_model.score(X_train, y_train), mlp_model.score(X_test, y_test))"
   ]
  },
  {
   "cell_type": "code",
   "execution_count": 28,
   "metadata": {},
   "outputs": [
    {
     "name": "stdout",
     "output_type": "stream",
     "text": [
      "0.791984100696 0.76970633694\n"
     ]
    }
   ],
   "source": [
    "print(mlp_model.score(X_train, y_train), mlp_model.score(X_test, y_test))"
   ]
  },
  {
   "cell_type": "code",
   "execution_count": 29,
   "metadata": {},
   "outputs": [
    {
     "name": "stdout",
     "output_type": "stream",
     "text": [
      "0.23029366306\n"
     ]
    }
   ],
   "source": [
    "print(1 - mlp_model.score(X_test, y_test))"
   ]
  },
  {
   "cell_type": "markdown",
   "metadata": {},
   "source": [
    "Оптимизация гиперпараметров"
   ]
  },
  {
   "cell_type": "code",
   "execution_count": 35,
   "metadata": {
    "collapsed": true
   },
   "outputs": [],
   "source": [
    "alpha_arr = [0.0001, 0.001, 0.01, 0.1]\n",
    "neuron_arr = [50, 100, 150, 200]\n",
    "test_err_alpha = []\n",
    "train_err_alpha = []\n",
    "test_err_neuron = []\n",
    "train_err_neuron = []\n",
    "for alpha in alpha_arr:\n",
    "    for neuron in neuron_arr:\n",
    "        mlp_model = MLPClassifier(alpha = alpha, hidden_layer_sizes = (neuron,), \n",
    "                                  solver = 'lbfgs', activation = 'logistic', random_state = 42)\n",
    "        mlp_model.fit(X_train, y_train)\n",
    "\n",
    "        y_train_pred = mlp_model.predict(X_train)\n",
    "        y_test_pred = mlp_model.predict(X_test)\n",
    "        train_err_neuron.append(np.mean(y_train != y_train_pred))\n",
    "        test_err_neuron.append(np.mean(y_test != y_test_pred))\n",
    "        \n",
    "    y_train_pred = mlp_model.predict(X_train)\n",
    "    y_test_pred = mlp_model.predict(X_test)\n",
    "    train_err_alpha.append(np.mean(y_train != y_train_pred))\n",
    "    test_err_alpha.append(np.mean(y_test != y_test_pred))"
   ]
  },
  {
   "cell_type": "code",
   "execution_count": 36,
   "metadata": {},
   "outputs": [
    {
     "name": "stdout",
     "output_type": "stream",
     "text": [
      "0.219410400795 0.227820710974\n"
     ]
    }
   ],
   "source": [
    "min_train_err_alpha = np.min(train_err_alpha)\n",
    "min_test_err_alpha = np.min(test_err_alpha)\n",
    "print(min_train_err_alpha, min_test_err_alpha)"
   ]
  },
  {
   "cell_type": "code",
   "execution_count": 39,
   "metadata": {},
   "outputs": [
    {
     "data": {
      "image/png": "[encoded data removed]",
      "text/plain": [
       "<matplotlib.figure.Figure at 0x22a545213c8>"
      ]
     },
     "metadata": {},
     "output_type": "display_data"
    }
   ],
   "source": [
    "plt.semilogx(alpha_arr, train_err_alpha, 'b-o', label = 'test')\n",
    "plt.semilogx(alpha_arr, test_err_alpha, 'r-o', label = 'train')\n",
    "plt.xlim([np.max(alpha_arr), np.min(alpha_arr)])\n",
    "plt.title('Error vs. alpha')\n",
    "plt.xlabel('alpha')\n",
    "plt.ylabel('error')\n",
    "plt.legend()\n",
    "pass"
   ]
  },
  {
   "cell_type": "code",
   "execution_count": 42,
   "metadata": {},
   "outputs": [
    {
     "data": {
      "image/png": "[encoded data removed]",
      "text/plain": [
       "<matplotlib.figure.Figure at 0x22a545ab1d0>"
      ]
     },
     "metadata": {},
     "output_type": "display_data"
    }
   ],
   "source": [
    "plt.semilogx(neuron_arr, train_err_alpha, 'b-o', label = 'test')\n",
    "plt.semilogx(neuron_arr, test_err_alpha, 'r-o', label = 'train')\n",
    "plt.xlim([np.max(neuron_arr), np.min(neuron_arr)])\n",
    "plt.title('Error vs. neuron')\n",
    "plt.xlabel('neuron')\n",
    "plt.ylabel('error')\n",
    "plt.legend()\n",
    "pass"
   ]
  },
  {
   "cell_type": "code",
   "execution_count": 46,
   "metadata": {},
   "outputs": [
    {
     "name": "stdout",
     "output_type": "stream",
     "text": [
      "0.0001\n"
     ]
    }
   ],
   "source": [
    "alpha_opt = alpha_arr[test_err_alpha == 0.227820710974]\n",
    "print(alpha_opt)"
   ]
  },
  {
   "cell_type": "code",
   "execution_count": 47,
   "metadata": {},
   "outputs": [
    {
     "name": "stdout",
     "output_type": "stream",
     "text": [
      "0.194700231865 0.227820710974\n"
     ]
    }
   ],
   "source": [
    "min_train_err_neuron = np.min(train_err_neuron)\n",
    "min_test_err_neuron = np.min(test_err_neuron)\n",
    "print(min_train_err_neuron, min_test_err_neuron)"
   ]
  },
  {
   "cell_type": "code",
   "execution_count": 48,
   "metadata": {},
   "outputs": [
    {
     "name": "stdout",
     "output_type": "stream",
     "text": [
      "50\n"
     ]
    }
   ],
   "source": [
    "neuron_opt = neuron_arr[test_err_neuron == 0.227820710974]\n",
    "print(neuron_opt)"
   ]
  },
  {
   "cell_type": "code",
   "execution_count": 49,
   "metadata": {},
   "outputs": [
    {
     "name": "stdout",
     "output_type": "stream",
     "text": [
      "0.196157668102\n",
      "0.233693972179\n"
     ]
    }
   ],
   "source": [
    "mlp_model = MLPClassifier(alpha = alpha_opt, hidden_layer_sizes = (neuron_opt,),\n",
    "                          solver = 'lbfgs', activation = 'logistic', random_state = 42)\n",
    "mlp_model.fit(X_train, y_train)\n",
    "\n",
    "y_train_pred = mlp_model.predict(X_train)\n",
    "y_test_pred = mlp_model.predict(X_test)\n",
    "print(np.mean(y_train != y_train_pred))\n",
    "print(np.mean(y_test != y_test_pred))"
   ]
  },
  {
   "cell_type": "code",
   "execution_count": 50,
   "metadata": {},
   "outputs": [
    {
     "name": "stdout",
     "output_type": "stream",
     "text": [
      "[[4671   30   22   44 1065]\n",
      " [   5    5    0    0    5]\n",
      " [   1    0    0    0    0]\n",
      " [   2    0    0    1    2]\n",
      " [ 314   11    6    5  281]]\n"
     ]
    }
   ],
   "source": [
    "from sklearn.metrics import confusion_matrix\n",
    "print(confusion_matrix(y_test_pred, y_test))"
   ]
  },
  {
   "cell_type": "code",
   "execution_count": 51,
   "metadata": {},
   "outputs": [
    {
     "data": {
      "image/png": "[encoded data removed]",
      "text/plain": [
       "<matplotlib.figure.Figure at 0x22a54fe7e48>"
      ]
     },
     "metadata": {},
     "output_type": "display_data"
    }
   ],
   "source": [
    "M = confusion_matrix(y_test_pred, y_test)\n",
    "M = np.sqrt(M)\n",
    "plt.imshow(M, interpolation = 'nearest')\n",
    "plt.set_cmap('binary')\n",
    "plt.xticks(range(10))\n",
    "plt.yticks(range(10))\n",
    "plt.xlabel(\"true label\")\n",
    "plt.ylabel(\"predicted label\")\n",
    "plt.colorbar()\n",
    "pass"
   ]
  },
  {
   "cell_type": "code",
   "execution_count": 52,
   "metadata": {},
   "outputs": [
    {
     "name": "stdout",
     "output_type": "stream",
     "text": [
      "             precision    recall  f1-score   support\n",
      "\n",
      "  b'-0.515'       0.80      0.94      0.86      4993\n",
      "  b'-1.332'       0.33      0.11      0.16        46\n",
      "  b'0.3025'       0.00      0.00      0.00        28\n",
      "  b'1.1202'       0.20      0.02      0.04        50\n",
      "  b'1.9379'       0.46      0.21      0.29      1353\n",
      "\n",
      "avg / total       0.72      0.77      0.73      6470\n",
      "\n"
     ]
    }
   ],
   "source": [
    "from sklearn.metrics import classification_report\n",
    "print(classification_report(y_test, y_test_pred))"
   ]
  },
  {
   "cell_type": "code",
   "execution_count": null,
   "metadata": {
    "collapsed": true
   },
   "outputs": [],
   "source": []
  }
 ],
 "metadata": {
  "kernelspec": {
   "display_name": "Python 3",
   "language": "python",
   "name": "python3"
  },
  "language_info": {
   "codemirror_mode": {
    "name": "ipython",
    "version": 3
   },
   "file_extension": ".py",
   "mimetype": "text/x-python",
   "name": "python",
   "nbconvert_exporter": "python",
   "pygments_lexer": "ipython3",
   "version": "3.6.3"
  }
 },
 "nbformat": 4,
 "nbformat_minor": 2
}
